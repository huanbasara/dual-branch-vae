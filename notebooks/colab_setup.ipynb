{
  "cells": [
    {
      "cell_type": "markdown",
      "metadata": {},
      "source": [
        "## 1. Init\n"
      ]
    },
    {
      "cell_type": "code",
      "execution_count": null,
      "metadata": {},
      "outputs": [],
      "source": [
        "from google.colab import drive\n",
        "import os\n",
        "import shutil\n",
        "import subprocess\n",
        "\n",
        "drive.mount('/content/drive')\n",
        "\n",
        "CODE_FOLDER = 'code'\n",
        "DATA_FOLDER = 'data'\n",
        "PROJECT_DIR = '/content/drive/MyDrive/Text2SVG'\n",
        "CODE_PATH = f\"{PROJECT_DIR}/{CODE_FOLDER}\"\n",
        "DATA_PATH = f\"{PROJECT_DIR}/{DATA_FOLDER}\"\n"
      ]
    },
    {
      "cell_type": "markdown",
      "metadata": {},
      "source": [
        "## 2. Clone Code Repository\n"
      ]
    },
    {
      "cell_type": "code",
      "execution_count": null,
      "metadata": {},
      "outputs": [],
      "source": [
        "# Clean existing code directory and clone fresh repository\n",
        "if os.path.exists(CODE_PATH):\n",
        "    shutil.rmtree(CODE_PATH)\n",
        "\n",
        "os.chdir(PROJECT_DIR)\n",
        "result = subprocess.run(['git', 'clone', 'https://github.com/huanbasara/dual-branch-vae.git', CODE_FOLDER], \n",
        "                      capture_output=True, text=True)\n",
        "\n",
        "if result.returncode != 0:\n",
        "    raise Exception(f\"Failed to clone repository: {result.stderr}\")\n",
        "\n",
        "print(f\"✅ Code repository cloned successfully to {CODE_PATH}\")\n"
      ]
    },
    {
      "cell_type": "markdown",
      "metadata": {},
      "source": [
        "## 3. Install Dependencies"
      ]
    },
    {
      "cell_type": "code",
      "execution_count": null,
      "metadata": {},
      "outputs": [],
      "source": [
        "%pip install torch torchvision numpy scipy pandas scikit-learn matplotlib pillow svglib svgpathtools\n",
        "%pip install kornia opencv-python cairosvg pyyaml easydict tqdm"
      ]
    },
    {
      "cell_type": "markdown",
      "metadata": {},
      "source": [
        "## 4. Test Environment Setup\n"
      ]
    },
    {
      "cell_type": "code",
      "execution_count": null,
      "metadata": {},
      "outputs": [],
      "source": [
        "# Run comprehensive test suite\n",
        "from utils.test_api import run_all_tests\n",
        "\n",
        "# This will test:\n",
        "# 1. Basic imports and system info\n",
        "# 2. Project structure validation  \n",
        "# 3. Model imports from Google Drive\n",
        "# 4. Configuration file loading\n",
        "success = run_all_tests()\n"
      ]
    },
    {
      "cell_type": "code",
      "execution_count": null,
      "metadata": {},
      "outputs": [],
      "source": [
        "# Add code directory to Python path and change working directory\n",
        "import sys\n",
        "if CODE_PATH not in sys.path:\n",
        "    sys.path.insert(0, CODE_PATH)\n",
        "    \n",
        "os.chdir(CODE_PATH)\n",
        "print(f\"✅ Working directory set to {CODE_PATH}\")\n"
      ]
    }
  ],
  "metadata": {
    "language_info": {
      "name": "python"
    }
  },
  "nbformat": 4,
  "nbformat_minor": 2
}
