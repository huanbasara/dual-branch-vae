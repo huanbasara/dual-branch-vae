{
  "cells": [
    {
      "cell_type": "markdown",
      "metadata": {},
      "source": [
        "## 1. Init\n"
      ]
    },
    {
      "cell_type": "code",
      "execution_count": null,
      "metadata": {},
      "outputs": [],
      "source": [
        "from google.colab import drive\n",
        "import os\n",
        "import shutil\n",
        "import subprocess\n",
        "\n",
        "drive.mount('/content/drive')\n",
        "\n",
        "CODE_FOLDER = 'code'\n",
        "DATA_FOLDER = 'data'\n",
        "TEST_FOLDER = 'test'\n",
        "PROJECT_DIR = '/content/drive/MyDrive/Text2SVG'\n",
        "CODE_PATH = f\"{PROJECT_DIR}/{CODE_FOLDER}\"\n",
        "DATA_PATH = f\"{PROJECT_DIR}/{DATA_FOLDER}\"\n",
        "TEST_PATH = f\"{PROJECT_DIR}/{TEST_FOLDER}\"\n"
      ]
    },
    {
      "cell_type": "markdown",
      "metadata": {},
      "source": [
        "## 2. Clone Code Repository\n"
      ]
    },
    {
      "cell_type": "code",
      "execution_count": null,
      "metadata": {},
      "outputs": [],
      "source": [
        "# Clean existing code directory and clone fresh repository\n",
        "if os.path.exists(CODE_PATH):\n",
        "    shutil.rmtree(CODE_PATH)\n",
        "\n",
        "os.chdir(PROJECT_DIR)\n",
        "result = subprocess.run(['git', 'clone', 'https://github.com/huanbasara/dual-branch-vae.git', CODE_FOLDER], \n",
        "                      capture_output=True, text=True)\n",
        "\n",
        "if result.returncode != 0:\n",
        "    raise Exception(f\"Failed to clone repository: {result.stderr}\")\n",
        "\n",
        "print(f\"✅ Code repository cloned successfully to {CODE_PATH}\")\n"
      ]
    },
    {
      "cell_type": "markdown",
      "metadata": {},
      "source": [
        "## 3. Install Dependencies"
      ]
    },
    {
      "cell_type": "code",
      "execution_count": null,
      "metadata": {},
      "outputs": [],
      "source": [
        "%pip install torch torchvision numpy scipy pandas scikit-learn matplotlib pillow svglib svgpathtools\n",
        "%pip install kornia opencv-python cairosvg pyyaml easydict tqdm\n",
        "# Install additional packages for SVG rendering support\n",
        "%pip install svglib reportlab cssutils"
      ]
    },
    {
      "cell_type": "code",
      "execution_count": null,
      "metadata": {},
      "outputs": [],
      "source": [
        "# Add code path to Python sys.path so we can import our modules\n",
        "import sys\n",
        "if CODE_PATH not in sys.path:\n",
        "    sys.path.insert(0, CODE_PATH)\n",
        "    print(f\"✅ Added {CODE_PATH} to Python path\")\n",
        "else:\n",
        "    print(f\"✅ {CODE_PATH} already in Python path\")\n"
      ]
    },
    {
      "cell_type": "code",
      "execution_count": null,
      "metadata": {},
      "outputs": [],
      "source": [
        "# Simple test: try to import pydiffvg_lite\n",
        "try:\n",
        "    import pydiffvg_lite\n",
        "    print(\"✅ pydiffvg_lite import successful!\")\n",
        "except Exception as e:\n",
        "    print(f\"❌ pydiffvg_lite import failed: {e}\")\n"
      ]
    },
    {
      "cell_type": "code",
      "execution_count": null,
      "metadata": {},
      "outputs": [],
      "source": [
        "# Test specific SVG file: aardvark\n",
        "svg_file = f\"{DATA_PATH}/aardvark/66543-200.svg\"\n",
        "print(f\"Using test SVG: {svg_file}\")\n",
        "\n",
        "if os.path.exists(svg_file):\n",
        "    try:\n",
        "        # Test svg_to_scene function\n",
        "        canvas_width, canvas_height, shapes, shape_groups = pydiffvg_lite.svg_to_scene(svg_file)\n",
        "        \n",
        "        print(f\"✅ SVG parsed successfully:\")\n",
        "        print(f\"   Canvas: {canvas_width} x {canvas_height}\")\n",
        "        print(f\"   Shapes: {len(shapes)}\")\n",
        "        print(f\"   Groups: {len(shape_groups)}\")\n",
        "        \n",
        "        # Get first shape's coordinate points\n",
        "        if len(shapes) > 0:\n",
        "            first_shape = shapes[0]\n",
        "            print(f\"   Shape type: {type(first_shape).__name__}\")\n",
        "            if hasattr(first_shape, 'points'):\n",
        "                points = first_shape.points\n",
        "                print(f\"   Points: {points.shape}\")\n",
        "                print(f\"   First points: {points[:5]}\")\n",
        "            \n",
        "        print(\"✅ SVG to coordinates conversion successful!\")\n",
        "        \n",
        "    except Exception as e:\n",
        "        print(f\"❌ SVG processing failed: {e}\")\n",
        "        import traceback\n",
        "        traceback.print_exc()\n",
        "else:\n",
        "    print(f\"❌ SVG file not found: {svg_file}\")\n"
      ]
    },
    {
      "cell_type": "code",
      "execution_count": null,
      "metadata": {},
      "outputs": [],
      "source": [
        "# Test reading SVG files from data folder and convert to coordinate points\n",
        "import os\n",
        "\n",
        "# Look for SVG files in data folder structure\n",
        "print(f\"Looking for SVG files in: {DATA_PATH}\")\n",
        "\n",
        "# Find first SVG file\n",
        "svg_file = None\n",
        "for root, dirs, files in os.walk(DATA_PATH):\n",
        "    for file in files:\n",
        "        if file.endswith('.svg'):\n",
        "            svg_file = os.path.join(root, file)\n",
        "            print(f\"Found SVG file: {svg_file}\")\n",
        "            break\n",
        "    if svg_file:\n",
        "        break\n",
        "\n",
        "if svg_file:\n",
        "    try:\n",
        "        # Test svg_to_scene function\n",
        "        canvas_width, canvas_height, shapes, shape_groups = pydiffvg_lite.svg_to_scene(svg_file)\n",
        "        \n",
        "        print(f\"✅ SVG parsed successfully:\")\n",
        "        print(f\"   Canvas size: {canvas_width} x {canvas_height}\")\n",
        "        print(f\"   Number of shapes: {len(shapes)}\")\n",
        "        print(f\"   Number of shape groups: {len(shape_groups)}\")\n",
        "        \n",
        "        # Get first shape's coordinate points\n",
        "        if len(shapes) > 0:\n",
        "            first_shape = shapes[0]\n",
        "            print(f\"   First shape type: {type(first_shape).__name__}\")\n",
        "            if hasattr(first_shape, 'points'):\n",
        "                points = first_shape.points\n",
        "                print(f\"   Points shape: {points.shape}\")\n",
        "                print(f\"   First few points: {points[:5]}\")\n",
        "            \n",
        "        print(\"✅ SVG to coordinates conversion successful!\")\n",
        "        \n",
        "    except Exception as e:\n",
        "        print(f\"❌ SVG processing failed: {e}\")\n",
        "        import traceback\n",
        "        traceback.print_exc()\n",
        "else:\n",
        "    print(\"❌ No SVG files found in data folder\")\n"
      ]
    }
  ],
  "metadata": {
    "language_info": {
      "name": "python"
    }
  },
  "nbformat": 4,
  "nbformat_minor": 2
}
